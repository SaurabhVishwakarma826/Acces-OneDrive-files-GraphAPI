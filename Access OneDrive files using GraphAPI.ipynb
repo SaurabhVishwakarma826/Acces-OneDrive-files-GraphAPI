{
 "cells": [
  {
   "cell_type": "code",
   "execution_count": null,
   "id": "8f977d06",
   "metadata": {},
   "outputs": [],
   "source": [
    "#import requred library\n",
    "import requests\n",
    "import json\n",
    "import urllib\n",
    "import os\n",
    "from getpass import getpass\n",
    "import time\n",
    "from datetime import datetime\n",
    "from msal import ConfidentialClientApplication\n",
    "import requests\n",
    "import pandas as pd\n",
    "from openpyxl import load_workbook"
   ]
  },
  {
   "cell_type": "markdown",
   "id": "b98abad5",
   "metadata": {},
   "source": [
    "# Get Access token\n",
    "### Token flow authentication"
   ]
  },
  {
   "cell_type": "code",
   "execution_count": null,
   "id": "c46f5151",
   "metadata": {},
   "outputs": [],
   "source": [
    "URL = 'https://login.microsoftonline.com/common/oauth2/v2.0/authorize'\n",
    "client_id = \"YOUR-CLIENT-ID\" # change it with you client ID\n",
    "permissions = ['files.readwrite']\n",
    "response_type = 'token'\n",
    "redirect_uri = 'http://localhost:8080/' \n",
    "scope = ''\n",
    "for items in range(len(permissions)):\n",
    "    scope = scope + permissions[items]\n",
    "    if items < len(permissions)-1:\n",
    "        scope = scope + '+'\n",
    "        \n",
    "print('Click over this link ' +URL + '?client_id=' + client_id + '&scope=' + scope + '&response_type=' + response_type+\\\n",
    "     '&redirect_uri=' + urllib.parse.quote(redirect_uri))\n",
    "print('Sign in to your account, copy the whole redirected URL.')\n",
    "code = input(\"Paste the URL here :\")\n",
    "token = code[(code.find('access_token') + len('access_token') + 1) : (code.find('&token_type'))]\n",
    "URL = 'https://graph.microsoft.com/v1.0/' \n",
    "HEADERS = {'Authorization': 'Bearer ' + token}\n",
    "response = requests.get(URL + 'me/drive/', headers = HEADERS)\n",
    "if (response.status_code == 200):\n",
    "    response = json.loads(response.text)\n",
    "    print('Connected to the OneDrive of', response['owner']['user']['displayName']+' (',response['driveType']+' ).', \\\n",
    "         '\\nConnection valid for one hour. Reauthenticate if required.')\n",
    "elif (response.status_code == 401):\n",
    "    response = json.loads(response.text)\n",
    "    print('API Error! : ', response['error']['code'],\\\n",
    "         '\\nSee response for more details.')\n",
    "else: \n",
    "    response = json.loads(response.text)\n",
    "    print('Unknown error! See response for more details.')"
   ]
  },
  {
   "cell_type": "markdown",
   "id": "a6895b10",
   "metadata": {},
   "source": [
    "## OneDrive operations"
   ]
  },
  {
   "cell_type": "code",
   "execution_count": null,
   "id": "2d3f4c8f",
   "metadata": {},
   "outputs": [],
   "source": [
    "URL = 'https://graph.microsoft.com/v1.0/'\n",
    "\n",
    "HEADERS = {'Authorization': 'Bearer ' + token}\n",
    "\n",
    "response = requests.get(URL + 'me/drive/', headers = HEADERS)\n",
    "if (response.status_code == 200):\n",
    "    response = json.loads(response.text)\n",
    "    print('Connected to the OneDrive of', response['owner']['user']['displayName']+' (',response['driveType']+' ).', \\\n",
    "         '\\nConnection valid for one hour. Refresh token if required.')\n",
    "elif (response.status_code == 401):\n",
    "    response = json.loads(response.text)\n",
    "    print('API Error! : ', response['error']['code'],\\\n",
    "         '\\nSee response for more details.')\n",
    "else:\n",
    "    response = json.loads(response.text)\n",
    "    print('Unknown error! See response for more details.')"
   ]
  },
  {
   "cell_type": "markdown",
   "id": "657fc4a8",
   "metadata": {},
   "source": [
    "### List folders unde root"
   ]
  },
  {
   "cell_type": "code",
   "execution_count": null,
   "id": "2ea6d853",
   "metadata": {},
   "outputs": [],
   "source": [
    "items = json.loads(requests.get(URL + 'me/drive/root/children', headers=HEADERS).text)\n",
    "items = items['value']\n",
    "for entries in range(len(items)):\n",
    "    print(items[entries]['name'], '| item-id >', items[entries]['id'])"
   ]
  },
  {
   "cell_type": "code",
   "execution_count": null,
   "id": "07c71638",
   "metadata": {},
   "outputs": [],
   "source": [
    "## 01BWIL7G557W2SQYZEMFBLSFT5N7MIHCHP this is file ID change it with your file ID where you want to go"
   ]
  },
  {
   "cell_type": "code",
   "execution_count": null,
   "id": "40eb70cf",
   "metadata": {},
   "outputs": [],
   "source": [
    "url = URL + 'me/drive/items/01BWIL7G557W2SQYZEMFBLSFT5N7MIHCHP/children'\n",
    "items = json.loads(requests.get(url, headers=HEADERS).text)\n",
    "items = items['value']\n",
    "for entries in range(len(items)):\n",
    "    print(items[entries]['name'], '| item-id >', items[entries]['id'])"
   ]
  },
  {
   "cell_type": "code",
   "execution_count": null,
   "id": "b8dc1f82",
   "metadata": {},
   "outputs": [],
   "source": [
    "## reading any excel file using pandas"
   ]
  },
  {
   "cell_type": "code",
   "execution_count": null,
   "id": "9491b84d",
   "metadata": {},
   "outputs": [],
   "source": [
    "url = 'me/drive/root:/Data1.xlsx:/content'\n",
    "url = URL + url\n",
    "data = requests.get(url, headers=HEADERS)"
   ]
  },
  {
   "cell_type": "code",
   "execution_count": null,
   "id": "cb75245f",
   "metadata": {},
   "outputs": [],
   "source": [
    "df = pd.read_excel(data.content)"
   ]
  },
  {
   "cell_type": "code",
   "execution_count": null,
   "id": "e37397ae",
   "metadata": {},
   "outputs": [],
   "source": [
    "## reading excel file using workbook"
   ]
  },
  {
   "cell_type": "code",
   "execution_count": null,
   "id": "5c6ba340",
   "metadata": {},
   "outputs": [],
   "source": [
    "url = 'me/drive/root:/master.xlsx:/content'\n",
    "url = URL + url\n",
    "data = requests.get(url, headers=HEADERS)\n",
    "with open('master.xlsx', 'wb') as f:\n",
    "    f.write(data.content)"
   ]
  },
  {
   "cell_type": "code",
   "execution_count": null,
   "id": "f1d12b2e",
   "metadata": {},
   "outputs": [],
   "source": [
    "wb = load_workbook('master.xlsx')\n",
    "ws = wb.active"
   ]
  },
  {
   "cell_type": "code",
   "execution_count": null,
   "id": "3ae78d42",
   "metadata": {},
   "outputs": [],
   "source": [
    "### performing some operation\n",
    "# rows = dataframe_to_rows(dfs, index=False, header=False)\n",
    "# for row in rows:\n",
    "#     ws.append(row)"
   ]
  },
  {
   "cell_type": "code",
   "execution_count": null,
   "id": "011feac1",
   "metadata": {},
   "outputs": [],
   "source": [
    "# save the file\n",
    "wb.save('master.xlsx')"
   ]
  },
  {
   "cell_type": "code",
   "execution_count": null,
   "id": "2ecbf72d",
   "metadata": {},
   "outputs": [],
   "source": [
    "# upload the file\n",
    "url = 'me/drive/root:/master.xlsx:/content'\n",
    "url = URL + url\n",
    "content = open('master.xlsx', 'rb')\n",
    "response = json.loads(requests.put(url, headers=HEADERS, data = content).text)"
   ]
  }
 ],
 "metadata": {
  "kernelspec": {
   "display_name": "Python 3 (ipykernel)",
   "language": "python",
   "name": "python3"
  },
  "language_info": {
   "codemirror_mode": {
    "name": "ipython",
    "version": 3
   },
   "file_extension": ".py",
   "mimetype": "text/x-python",
   "name": "python",
   "nbconvert_exporter": "python",
   "pygments_lexer": "ipython3",
   "version": "3.11.1"
  }
 },
 "nbformat": 4,
 "nbformat_minor": 5
}
